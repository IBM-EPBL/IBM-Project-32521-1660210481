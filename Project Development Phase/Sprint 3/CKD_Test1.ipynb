{
  "nbformat": 4,
  "nbformat_minor": 0,
  "metadata": {
    "colab": {
      "provenance": []
    },
    "kernelspec": {
      "name": "python3",
      "display_name": "Python 3"
    },
    "language_info": {
      "name": "python"
    }
  },
  "cells": [
    {
      "cell_type": "code",
      "execution_count": null,
      "metadata": {
        "colab": {
          "base_uri": "https://localhost:8080/"
        },
        "id": "ICkFVTBHQbBW",
        "outputId": "6a77a024-08d5-4d80-a9b1-6d2d7a17aef0"
      },
      "outputs": [
        {
          "output_type": "stream",
          "name": "stdout",
          "text": [
            "2.9.2\n"
          ]
        }
      ],
      "source": [
        "import os\n",
        "\n",
        "import tensorflow as tf\n",
        "from tensorflow import keras\n",
        "\n",
        "print(tf.version.VERSION)"
      ]
    },
    {
      "cell_type": "code",
      "source": [
        "new_model = tf.keras.models.load_model('/content/drive/MyDrive/ckd.h5')\n",
        "new_model.summary()"
      ],
      "metadata": {
        "colab": {
          "base_uri": "https://localhost:8080/"
        },
        "id": "m6KGtKjuSB9C",
        "outputId": "a06ecc5a-6866-4ad5-a9dd-a044c332436f"
      },
      "execution_count": null,
      "outputs": [
        {
          "output_type": "stream",
          "name": "stdout",
          "text": [
            "Model: \"sequential_1\"\n",
            "_________________________________________________________________\n",
            " Layer (type)                Output Shape              Param #   \n",
            "=================================================================\n",
            " dense_5 (Dense)             (None, 64)                1536      \n",
            "                                                                 \n",
            " dense_6 (Dense)             (None, 128)               8320      \n",
            "                                                                 \n",
            " dense_7 (Dense)             (None, 256)               33024     \n",
            "                                                                 \n",
            " dense_8 (Dense)             (None, 512)               131584    \n",
            "                                                                 \n",
            " dense_9 (Dense)             (None, 1)                 513       \n",
            "                                                                 \n",
            "=================================================================\n",
            "Total params: 174,977\n",
            "Trainable params: 174,977\n",
            "Non-trainable params: 0\n",
            "_________________________________________________________________\n"
          ]
        }
      ]
    },
    {
      "cell_type": "code",
      "source": [
        "import numpy as np\n",
        "\n",
        "prediction=new_model.predict([[7.00, 1.02, 0.00, 0.00, 0.00, 0.00,\n",
        "       0.00, 0.00, 1.13, 2.50, 6.00, 1.46,\n",
        "       4.90, 1.65, 5.20, 8.00, 5.10, 0.00,\n",
        "       0.00, 0.00, 1.00, 0.00, 0.00]])\n",
        "result = np.round(prediction)\n",
        "if(result == 0):\n",
        "  print(\"CKD\")\n",
        "else:\n",
        "  print(\"No CKD\")\n"
      ],
      "metadata": {
        "colab": {
          "base_uri": "https://localhost:8080/"
        },
        "id": "zsBOf6o5SNfX",
        "outputId": "2211e9d1-a556-4c8d-f07e-0f1c4b0de72f"
      },
      "execution_count": null,
      "outputs": [
        {
          "output_type": "stream",
          "name": "stdout",
          "text": [
            "1/1 [==============================] - 0s 29ms/step\n",
            "No CKD\n"
          ]
        }
      ]
    },
    {
      "cell_type": "code",
      "source": [
        "import numpy as np\n",
        "\n",
        "prediction=new_model.predict([[6.00001, 1.02500, 0.00000, 0.00000, 0.00000, 0.00000,\n",
        "       0.00000, 0.00000, 9.60001, 3.30001, 9.0001, 1.47002,\n",
        "       4.50000, 1.69001, 4.10001, 7.20003, 5.00000, 0.00000,\n",
        "       0.00000, 0.00000, 1.00000, 0.00000, 0.00000]])\n",
        "result = np.round(prediction)\n",
        "if(result == 0):\n",
        "  print(\"CKD\")\n",
        "else:\n",
        "  print(\"No CKD\")"
      ],
      "metadata": {
        "colab": {
          "base_uri": "https://localhost:8080/"
        },
        "id": "ubDE_CPlXXuy",
        "outputId": "bf338974-c104-4d2d-9741-6f6c9037d4b0"
      },
      "execution_count": null,
      "outputs": [
        {
          "output_type": "stream",
          "name": "stdout",
          "text": [
            "1/1 [==============================] - 0s 30ms/step\n",
            "No CKD\n"
          ]
        }
      ]
    },
    {
      "cell_type": "code",
      "source": [
        "import numpy as np\n",
        "\n",
        "prediction=new_model.predict([[1.10002, 1.01500, 3.00000, 0.00000, 1.00000, 0.00000,\n",
        "       1.00000, 0.00000, 1.06002, 2.15002, 1.52001, 1.20002,\n",
        "       5.70000, 8.60000, 2.60001, 5.00003, 2.50000, 1.00000,\n",
        "       0.00000, 1.00000, 1.00000, 0.00000, 1.00000]])\n",
        "result = np.round(prediction)\n",
        "if(result == 0):\n",
        "  print(\"CKD\")\n",
        "else:\n",
        "  print(\"No CKD\")"
      ],
      "metadata": {
        "colab": {
          "base_uri": "https://localhost:8080/"
        },
        "id": "typBT5YUY-KP",
        "outputId": "83cddeb8-2627-4c2e-a4e2-8a78cefee5a8"
      },
      "execution_count": null,
      "outputs": [
        {
          "output_type": "stream",
          "name": "stdout",
          "text": [
            "1/1 [==============================] - 0s 29ms/step\n",
            "CKD\n"
          ]
        }
      ]
    }
  ]
}